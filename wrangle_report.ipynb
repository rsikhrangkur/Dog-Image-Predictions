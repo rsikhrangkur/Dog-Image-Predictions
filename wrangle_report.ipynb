{
 "cells": [
  {
   "cell_type": "markdown",
   "metadata": {},
   "source": [
    "# Ryan Sikhrangkur"
   ]
  },
  {
   "cell_type": "markdown",
   "metadata": {},
   "source": [
    "# Data Wrangling Report"
   ]
  },
  {
   "cell_type": "markdown",
   "metadata": {},
   "source": [
    "<br>"
   ]
  },
  {
   "cell_type": "markdown",
   "metadata": {},
   "source": [
    "## Table of Contents\n",
    "- [Introduction](#Introduction)\n",
    "- [Gathering Data](#Gathering-Data)\n",
    "- [Assessing Data](#Assessing-Data)\n",
    "- [Cleaning Data](#Cleaning-Data)\n",
    "- [Reassessment & Conclusion](#Reassessment-and-Conclusion)"
   ]
  },
  {
   "cell_type": "markdown",
   "metadata": {},
   "source": [
    "<br>"
   ]
  },
  {
   "cell_type": "markdown",
   "metadata": {},
   "source": [
    "## Introduction <a class=\"anchor\" id=\"Introduction\"></a>"
   ]
  },
  {
   "cell_type": "markdown",
   "metadata": {},
   "source": [
    "This report will summarize the process in which I wrangled data from a tweet archive of the user *@dog_rates*, otherwise known as *WeRateDogs*. With over four-million followers, *WeRateDogs* rates users' dogs and includes humorous commentary talking about them."
   ]
  },
  {
   "cell_type": "markdown",
   "metadata": {},
   "source": [
    "I was able to wrangle this data using Python and several of its libraries, including Pandas, NumPy, and the Twitter API Tweepy.\n",
    "\n",
    "My wrangling report will be divided into the three major steps of wrangling: **gathering**, **assessing**, and **cleaning**. I will also include any reassessments performed, and difficulties faced in the wrangling process."
   ]
  },
  {
   "cell_type": "markdown",
   "metadata": {},
   "source": [
    "<br>"
   ]
  },
  {
   "cell_type": "markdown",
   "metadata": {},
   "source": [
    "## Gathering Data <a class=\"anchor\" id=\"Gathering-Data\"></a>"
   ]
  },
  {
   "cell_type": "markdown",
   "metadata": {},
   "source": [
    "I collected the data from three sources:\n",
    "- A `.csv` file, named `twitter-archive-enhanced.csv`.\n",
    "- A `.tsv` file created through web scraping.\n",
    "- A `.json` file created through the service of a Twitter API."
   ]
  },
  {
   "cell_type": "markdown",
   "metadata": {},
   "source": [
    "The `twitter-archive-enhanced.csv` file I was able to read into a dataframe table using Pandas and named it `df_archive`."
   ]
  },
  {
   "cell_type": "markdown",
   "metadata": {},
   "source": [
    "My second source of data was from a [webpage](https://d17h27t6h515a5.cloudfront.net/topher/2017/August/599fd2ad_image-predictions/image-predictions.tsv), which I was able to scrape using the requests library and save to an `image_predictions.tsv` file. From that file, I read the data into a dataframe table using Pandas and named it `df_predictions`."
   ]
  },
  {
   "cell_type": "markdown",
   "metadata": {},
   "source": [
    "The final source of information I gathered through Tweepy. Tweepy is a Twitter API which I applied to use for the purpose of this project, and using the list of tweet IDs present in `df_archive` saved the favorite and retweet counts to a `.json` file. I was then able to use the json library to read the file into a dictionary, and use Pandas to create a dataframe table named `df_likes_rts` from the dictionary."
   ]
  },
  {
   "cell_type": "markdown",
   "metadata": {},
   "source": [
    "<br>"
   ]
  },
  {
   "cell_type": "markdown",
   "metadata": {},
   "source": [
    "## Assessing Data <a class=\"anchor\" id=\"Assessing-Data\"></a>"
   ]
  },
  {
   "cell_type": "markdown",
   "metadata": {},
   "source": [
    "I assessed the data both visually and programmatically to uncover any issues there may be in the three tables I created from what I had gathered. For the scope of this project I followed two requirements:\n",
    "1. The tweets must all be original, i.e. they must not be retweets.\n",
    "2. There should be no tweets made beyond the date of August 1st, 2017."
   ]
  },
  {
   "cell_type": "markdown",
   "metadata": {},
   "source": [
    "I began my assessment with simple operations such as printing the tables for a broader view and calling the tables' info to see their structure (columns and their data types, null entry values)."
   ]
  },
  {
   "cell_type": "markdown",
   "metadata": {},
   "source": [
    "Afterwards I investigated specific pieces of data - checking if columns existed in multiple tables, the unique values of several columns and how many of each there were, and looking for data that would be invalid (e.g. a `rating_denominator` of zero in `df_archive`)."
   ]
  },
  {
   "cell_type": "markdown",
   "metadata": {},
   "source": [
    "### Issues"
   ]
  },
  {
   "cell_type": "markdown",
   "metadata": {},
   "source": [
    "My assessment of the data provided a look into several key issues which needed to be resolved to better prepare the data for any exploratory data analysis. The issues were defined into two categories.\n",
    "\n",
    "Recall that an issue with **quality** refers to problems with the data's content. If data is invalid, corrupted, or duplicated, then the data is low quality.\n",
    "\n",
    "Recall that an issue with **tidiness** refers to the structure of the data. Each variable forms a column, each observation forms a row, and each observational unit forms a table.\n",
    "\n",
    "The issues I've discovered are as follows."
   ]
  },
  {
   "cell_type": "markdown",
   "metadata": {},
   "source": [
    "### Quality Issues\n",
    "#### df_archive\n",
    "1. There are 181 non-original tweets which need to be excluded.\n",
    "2. The `in_reply_to_status_id`, `in_reply_to_user_id`, `source` and `expanded_urls` columns do not provide useful information. \n",
    "3. The `name` column has entries which aren't names, and null values are listed as the `str` value \"None\".\n",
    "4. The `tweet_id` column stores `int` type values instead of `str`.\n",
    "5. The `timestamp` field stores `str` type values instead of `date`.\n",
    "\n",
    "#### df_predictions\n",
    "1. Several column names are difficult to understand.\n",
    "2. The values entered in the `p1`, `p2` and `p3` columns have inconsistent capitalization and punctuation practices.\n",
    "3. The `tweet_id` column stores `int` type values instead of `str`.\n",
    "\n",
    "#### df_likes_rts\n",
    "1. The `tweet_id` column stores `int` type values instead of `str`.\n",
    "\n",
    "### Tidiness Issues\n",
    "1. 181 tweets are missing from `df_predictions`, and two weets are missing from `df_likes_rts`.\n",
    "2. The `df_archive` has one data type (dog stage) stored in four columns (`doggo`, `floofer`, `pupper`, `puppo`).\n",
    "3. The `df_likes_rts` table provides little additional information and can be joined to the `df_archive` dataset."
   ]
  },
  {
   "cell_type": "markdown",
   "metadata": {},
   "source": [
    "<br>"
   ]
  },
  {
   "cell_type": "markdown",
   "metadata": {},
   "source": [
    "## Cleaning Data <a class=\"anchor\" id=\"Cleaning-Data\"></a>"
   ]
  },
  {
   "cell_type": "markdown",
   "metadata": {},
   "source": [
    "Before any cleaning I created copies of the three tables to preserve the originals, then I cleaned the issues identified in the assessment with the following priority in mind:\n",
    "1. Tidiness issues pertaining to missing data.\n",
    "2. Other tidiness issues.\n",
    "3. Quality issues, in order of established tables."
   ]
  },
  {
   "cell_type": "markdown",
   "metadata": {},
   "source": [
    "### Tidiness Issues"
   ]
  },
  {
   "cell_type": "markdown",
   "metadata": {},
   "source": [
    "**1. Missing tweets in `df_predictions` and `df_likes_rts`.**\n",
    "\n",
    "I saw there was missing data when the tables had different numbers of observations.\n",
    "- `df_archive` had 2356.\n",
    "- `df_likes_rts` had 2354.\n",
    "- `df_predictions` had 2075.\n",
    "\n",
    "To correct this I had set all tables to include observations which only contained `tweet_id` values which were present in all three."
   ]
  },
  {
   "cell_type": "markdown",
   "metadata": {},
   "source": [
    "**2. One data type in four columns in `df_archive`**\n",
    "\n",
    "Some tweets mention a dog stage, which is stored into an appropriate column. These stages are `doggo`, `floofer`, `pupper` and `puppo`. For the columns that aren't mentioned, or if no dog stage is mentioned, these values are saved as \"none\".\n",
    "\n",
    "I saw this as an opportunity to clean this structure by creating one column named `dog_stage`, and the other four columns are saved as the observation values in this column. Values of \"none\" are convered to `np.nan` to better reflect the existence of null values. The `doggo`, `floofer`, `pupper`, and `puppo` columns are dropped from the table."
   ]
  },
  {
   "cell_type": "markdown",
   "metadata": {},
   "source": [
    "**3. The `df_likes_rts` table doesn't provide substantial information.**\n",
    "\n",
    "Because `df_likes_rts` provided only two unique column variables, I saw it best to merge the `df_likes_rts` with the `df_archive` table joined on the `tweet_id` column."
   ]
  },
  {
   "cell_type": "markdown",
   "metadata": {},
   "source": [
    "### Quality Issues"
   ]
  },
  {
   "cell_type": "markdown",
   "metadata": {},
   "source": [
    "#### df_archive"
   ]
  },
  {
   "cell_type": "markdown",
   "metadata": {},
   "source": [
    "**1. Non-original tweets must be excluded.**\n",
    "\n",
    "It was possible to identify non-original tweets by locating observations with a non-null value in the `retweeted_status_id`, `retweeted_status_user_id`, and/or `retweeted_status_timestamp` variable columns.\n",
    "\n",
    "Knowing this, I had excluded any observations where those variables were not null from `df_archive`. These columns were then dropped from the table."
   ]
  },
  {
   "cell_type": "markdown",
   "metadata": {},
   "source": [
    "**2. Several columns are not useful.**\n",
    "\n",
    "There are some columns present which didn't provide information I felt would be useful towards exploratory data analysis, and was inflating the table size too much.\n",
    "\n",
    "In the previous issue I addressed retweets, but no mention of replies which are noted by the `in_reply_to_status_id` and `in_reply_to_user_id` columns.\n",
    "\n",
    "Also, a tweet can be identified and all its contents viewed through the `tweet_id` alone, which rendered the `source` and `expanded_urls` columns redundant.\n",
    "\n",
    "It is for these reasons I dropped the four columns from the table."
   ]
  },
  {
   "cell_type": "markdown",
   "metadata": {},
   "source": [
    "**3. The `name` column contains invalid values and \"none\" instead of null.**\n",
    "\n",
    "The `name` column in `df_archive` stores values in tweets where an algorithm uses speech patterns to detect, or more accurately \"predict\", the names of these dogs where the speech patterns are present. There are several values which were stored using this algorithm which aren't names, but instead common words (an, the, etc.). These values were removed, and along with the value \"none\" replaced with `np.nan` to reflect an accurate count of tweets with no value for `name`."
   ]
  },
  {
   "cell_type": "markdown",
   "metadata": {},
   "source": [
    "**4. The `tweet_id` column stores `int` variables instead of `str`.**\n",
    "\n",
    "Tweet IDs are numerical, yet the `int` value type is susceptible to unwanted mathematical processes, such as a tweet ID leading with 0s but must remain a consistent length. I changed the data type of the `tweet_id` variable to `str` to prevent manipulation of these values."
   ]
  },
  {
   "cell_type": "markdown",
   "metadata": {},
   "source": [
    "**5. The `timestamp` column stores `str` variables instead of `date`.**\n",
    "\n",
    "Likewise to the last issue, I converted the `timestamp` variable to the `date` data type to prevent errors which can be made if the column continues to store `str` values (misspelling of the month, inconsistent time and date formats, etc.). "
   ]
  },
  {
   "cell_type": "markdown",
   "metadata": {},
   "source": [
    "#### df_predictions"
   ]
  },
  {
   "cell_type": "markdown",
   "metadata": {},
   "source": [
    "**1. Several column names are difficult to understand.**\n",
    "\n",
    "Columns such as `p_1` and `p1_conf` may not make sense to data analysts who are newer to the project. I renamed these columns for legibility purposes, from `p_n` to `prediction_n` and `pn_conf` to `pn_confidence`. I also renamed `img_num` to `img_count` to better reflect the quantity of images found in each observation."
   ]
  },
  {
   "cell_type": "markdown",
   "metadata": {},
   "source": [
    "**2. Values in the `prediction_1`, `prediction_2` and `prediction_3` columns have inconsistent grammar practices.**\n",
    "\n",
    "To remain consistent and more legible, I had all observations adjusted to follow the same grammar practices."
   ]
  },
  {
   "cell_type": "markdown",
   "metadata": {},
   "source": [
    "**3. The `tweet_id` column stores `int` variables instead of `str`.**\n",
    "\n",
    "Just as in the `df_archive` table, I change the data type of the `tweet_id` column from `int` to `str` to better preserve the values and prevent unwanted manipulation."
   ]
  },
  {
   "cell_type": "markdown",
   "metadata": {},
   "source": [
    "<br>"
   ]
  },
  {
   "cell_type": "markdown",
   "metadata": {},
   "source": [
    "## Reassessment & Conclusion <a class=\"anchor\" id=\"Reassessment-and-Conclusion\"></a>"
   ]
  },
  {
   "cell_type": "markdown",
   "metadata": {},
   "source": [
    "Once the above issues were resolved, I addressed two new issues."
   ]
  },
  {
   "cell_type": "markdown",
   "metadata": {},
   "source": [
    "**1. There are less tweets in `df_archive` than in `df_predictions`.**\n",
    "\n",
    "\n",
    "This issue is likely the result of removing retweets from the `df_archive` table, but neglecting to check for those retweets in `df_predictions`. I resolved this by repeating the process of excluding observations whose `tweet_id` values were not present in both tables."
   ]
  },
  {
   "cell_type": "markdown",
   "metadata": {},
   "source": [
    "**2. Some observations in `df_archive` have multiple dog stages as a value in `dog_stage`.**\n",
    "\n",
    "It's acceptable for a dog to have multiple values in `dog_stage`, however in these instances they were combined into one word (e.g., \"doggofloofer\" instead of \"doggo, floofer\"). I located these values, and corrected them to reflect the multiple `dog_stage` values.<br>"
   ]
  },
  {
   "cell_type": "markdown",
   "metadata": {},
   "source": [
    "Once I completed all assessment and cleaning of the data, I merged the two tables into one `df_master` table and saved it to a `.csv` file for future analysis.\n",
    "\n",
    "While I consider my cleaning objectives complete, there is much more which can be done to make the data more suitable. For example, using regular expressions (Regex) it's possible that more speech patterns can be considered and give us more dog names where it's assumed there are none.\n",
    "\n",
    "This concludes my wrangling report."
   ]
  }
 ],
 "metadata": {
  "kernelspec": {
   "display_name": "Python 3",
   "language": "python",
   "name": "python3"
  },
  "language_info": {
   "codemirror_mode": {
    "name": "ipython",
    "version": 3
   },
   "file_extension": ".py",
   "mimetype": "text/x-python",
   "name": "python",
   "nbconvert_exporter": "python",
   "pygments_lexer": "ipython3",
   "version": "3.6.3"
  }
 },
 "nbformat": 4,
 "nbformat_minor": 2
}
